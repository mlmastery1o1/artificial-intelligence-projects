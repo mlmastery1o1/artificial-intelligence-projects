{
 "cells": [
  {
   "cell_type": "markdown",
   "metadata": {
    "id": "zt5VIRdsF6ov"
   },
   "source": [
    "# Avantika University\n",
    "# **Artificial Intelligence - Advance**\n",
    "## Assignment 1\n",
    "---\n",
    "Title : Develop an MNIST hand written digit recognition system using Artificial Neural Network and by Convolutional Neural network.\n",
    "\n",
    "Description : MNIST Dataset is a large dataset of handwritten digits containing 60,000 images. The candidate is supposed to develop ANN based and CNN based system for the digit recognition classifer.\n",
    "\n",
    "\n",
    "\n"
   ]
  },
  {
   "cell_type": "code",
   "execution_count": 1,
   "metadata": {
    "id": "K-VFwLzJ4nIx"
   },
   "outputs": [],
   "source": [
    "# Import tensorFlow\n",
    "import tensorflow as tf"
   ]
  },
  {
   "cell_type": "code",
   "execution_count": 2,
   "metadata": {
    "id": "kThl2aSM4wRh"
   },
   "outputs": [],
   "source": [
    "# Import keras from tensorFlow.  Keras is built over tensorFlow  \n",
    "from tensorflow import keras"
   ]
  },
  {
   "cell_type": "code",
   "execution_count": 3,
   "metadata": {
    "id": "zjsazZ9D49vv"
   },
   "outputs": [],
   "source": [
    "#import matplotlib for plotting graphs and images\n",
    "import matplotlib.pyplot as plt"
   ]
  },
  {
   "cell_type": "code",
   "execution_count": 4,
   "metadata": {
    "id": "yYAa9CxE6O8w"
   },
   "outputs": [],
   "source": [
    "# Import numpy for performing calculations on list\n",
    "import numpy as np"
   ]
  },
  {
   "cell_type": "markdown",
   "metadata": {
    "id": "zQMFyn5GK379"
   },
   "source": [
    "**Load the Mnist digit recognition data**"
   ]
  },
  {
   "cell_type": "code",
   "execution_count": 5,
   "metadata": {
    "id": "0K6wLOap6SlO"
   },
   "outputs": [],
   "source": [
    "# The model is present at the keras module. We can load the data from keras and split the data into train and test\n",
    "(X_train, y_train),(X_test, y_test) = keras.datasets.mnist.load_data()"
   ]
  },
  {
   "cell_type": "markdown",
   "metadata": {
    "id": "Ah5itTC8Le6v"
   },
   "source": [
    "**Understanding the data**"
   ]
  },
  {
   "cell_type": "code",
   "execution_count": 6,
   "metadata": {
    "colab": {
     "base_uri": "https://localhost:8080/"
    },
    "id": "WAqbPeVI6fwf",
    "outputId": "8fa72761-44ca-47c5-e8ad-6502355fbc16"
   },
   "outputs": [
    {
     "data": {
      "text/plain": [
       "(60000, 28, 28)"
      ]
     },
     "execution_count": 6,
     "metadata": {},
     "output_type": "execute_result"
    }
   ],
   "source": [
    "X_train.shape"
   ]
  },
  {
   "cell_type": "code",
   "execution_count": 7,
   "metadata": {
    "colab": {
     "base_uri": "https://localhost:8080/"
    },
    "id": "FpWWOylK6mbf",
    "outputId": "eee3cfaf-2420-496f-a407-79fdb42dce8c"
   },
   "outputs": [
    {
     "data": {
      "text/plain": [
       "(60000,)"
      ]
     },
     "execution_count": 7,
     "metadata": {},
     "output_type": "execute_result"
    }
   ],
   "source": [
    "y_train.shape"
   ]
  },
  {
   "cell_type": "markdown",
   "metadata": {
    "id": "vZcaUfUgMKQn"
   },
   "source": [
    "The traing images has a shape of 28 x 28, i.e. the image is of 28x28 with only one channel(B/W). \n",
    "The training data has 60,000 image data."
   ]
  },
  {
   "cell_type": "code",
   "execution_count": 8,
   "metadata": {
    "colab": {
     "base_uri": "https://localhost:8080/"
    },
    "id": "648DrUZg66TX",
    "outputId": "616f3dfd-0653-4aff-dc05-6d248213b736"
   },
   "outputs": [
    {
     "data": {
      "text/plain": [
       "(10000, 28, 28)"
      ]
     },
     "execution_count": 8,
     "metadata": {},
     "output_type": "execute_result"
    }
   ],
   "source": [
    "X_test.shape"
   ]
  },
  {
   "cell_type": "code",
   "execution_count": 9,
   "metadata": {
    "colab": {
     "base_uri": "https://localhost:8080/"
    },
    "id": "0bmJh6gm686X",
    "outputId": "23407b5c-fbd4-4d17-b50b-d57114f8f3b1"
   },
   "outputs": [
    {
     "data": {
      "text/plain": [
       "(10000,)"
      ]
     },
     "execution_count": 9,
     "metadata": {},
     "output_type": "execute_result"
    }
   ],
   "source": [
    "y_test.shape"
   ]
  },
  {
   "cell_type": "markdown",
   "metadata": {
    "id": "pp786osHMtnj"
   },
   "source": [
    "The testing data has 10,000 image data"
   ]
  },
  {
   "cell_type": "markdown",
   "metadata": {
    "id": "zHfmNBEoM4Ym"
   },
   "source": [
    "**Plotting the image data**\n",
    "\n"
   ]
  },
  {
   "cell_type": "code",
   "execution_count": 10,
   "metadata": {
    "colab": {
     "base_uri": "https://localhost:8080/"
    },
    "id": "0REW89-R6_-n",
    "outputId": "7e641917-38dc-46a5-dff1-3040818c1196"
   },
   "outputs": [
    {
     "data": {
      "text/plain": [
       "array([[  0,   0,   0,   0,   0,   0,   0,   0,   0,   0,   0,   0,   0,\n",
       "          0,   0,   0,   0,   0,   0,   0,   0,   0,   0,   0,   0,   0,\n",
       "          0,   0],\n",
       "       [  0,   0,   0,   0,   0,   0,   0,   0,   0,   0,   0,   0,   0,\n",
       "          0,   0,   0,   0,   0,   0,   0,   0,   0,   0,   0,   0,   0,\n",
       "          0,   0],\n",
       "       [  0,   0,   0,   0,   0,   0,   0,   0,   0,   0,   0,   0,   0,\n",
       "          0,   0,   0,   0,   0,   0,   0,   0,   0,   0,   0,   0,   0,\n",
       "          0,   0],\n",
       "       [  0,   0,   0,   0,   0,   0,   0,   0,   0,   0,   0,   0,   0,\n",
       "          0,   0,   0,   0,   0,   0,   0,   0,   0,   0,   0,   0,   0,\n",
       "          0,   0],\n",
       "       [  0,   0,   0,   0,   0,   0,   0,   0,   0,   0,   0,   0,   0,\n",
       "          0,   0,   0,   0,   0,   0,   0,   0,   0,   0,   0,   0,   0,\n",
       "          0,   0],\n",
       "       [  0,   0,   0,   0,   0,   0,   0,   0,   0,   0,   0,   0,   3,\n",
       "         18,  18,  18, 126, 136, 175,  26, 166, 255, 247, 127,   0,   0,\n",
       "          0,   0],\n",
       "       [  0,   0,   0,   0,   0,   0,   0,   0,  30,  36,  94, 154, 170,\n",
       "        253, 253, 253, 253, 253, 225, 172, 253, 242, 195,  64,   0,   0,\n",
       "          0,   0],\n",
       "       [  0,   0,   0,   0,   0,   0,   0,  49, 238, 253, 253, 253, 253,\n",
       "        253, 253, 253, 253, 251,  93,  82,  82,  56,  39,   0,   0,   0,\n",
       "          0,   0],\n",
       "       [  0,   0,   0,   0,   0,   0,   0,  18, 219, 253, 253, 253, 253,\n",
       "        253, 198, 182, 247, 241,   0,   0,   0,   0,   0,   0,   0,   0,\n",
       "          0,   0],\n",
       "       [  0,   0,   0,   0,   0,   0,   0,   0,  80, 156, 107, 253, 253,\n",
       "        205,  11,   0,  43, 154,   0,   0,   0,   0,   0,   0,   0,   0,\n",
       "          0,   0],\n",
       "       [  0,   0,   0,   0,   0,   0,   0,   0,   0,  14,   1, 154, 253,\n",
       "         90,   0,   0,   0,   0,   0,   0,   0,   0,   0,   0,   0,   0,\n",
       "          0,   0],\n",
       "       [  0,   0,   0,   0,   0,   0,   0,   0,   0,   0,   0, 139, 253,\n",
       "        190,   2,   0,   0,   0,   0,   0,   0,   0,   0,   0,   0,   0,\n",
       "          0,   0],\n",
       "       [  0,   0,   0,   0,   0,   0,   0,   0,   0,   0,   0,  11, 190,\n",
       "        253,  70,   0,   0,   0,   0,   0,   0,   0,   0,   0,   0,   0,\n",
       "          0,   0],\n",
       "       [  0,   0,   0,   0,   0,   0,   0,   0,   0,   0,   0,   0,  35,\n",
       "        241, 225, 160, 108,   1,   0,   0,   0,   0,   0,   0,   0,   0,\n",
       "          0,   0],\n",
       "       [  0,   0,   0,   0,   0,   0,   0,   0,   0,   0,   0,   0,   0,\n",
       "         81, 240, 253, 253, 119,  25,   0,   0,   0,   0,   0,   0,   0,\n",
       "          0,   0],\n",
       "       [  0,   0,   0,   0,   0,   0,   0,   0,   0,   0,   0,   0,   0,\n",
       "          0,  45, 186, 253, 253, 150,  27,   0,   0,   0,   0,   0,   0,\n",
       "          0,   0],\n",
       "       [  0,   0,   0,   0,   0,   0,   0,   0,   0,   0,   0,   0,   0,\n",
       "          0,   0,  16,  93, 252, 253, 187,   0,   0,   0,   0,   0,   0,\n",
       "          0,   0],\n",
       "       [  0,   0,   0,   0,   0,   0,   0,   0,   0,   0,   0,   0,   0,\n",
       "          0,   0,   0,   0, 249, 253, 249,  64,   0,   0,   0,   0,   0,\n",
       "          0,   0],\n",
       "       [  0,   0,   0,   0,   0,   0,   0,   0,   0,   0,   0,   0,   0,\n",
       "          0,  46, 130, 183, 253, 253, 207,   2,   0,   0,   0,   0,   0,\n",
       "          0,   0],\n",
       "       [  0,   0,   0,   0,   0,   0,   0,   0,   0,   0,   0,   0,  39,\n",
       "        148, 229, 253, 253, 253, 250, 182,   0,   0,   0,   0,   0,   0,\n",
       "          0,   0],\n",
       "       [  0,   0,   0,   0,   0,   0,   0,   0,   0,   0,  24, 114, 221,\n",
       "        253, 253, 253, 253, 201,  78,   0,   0,   0,   0,   0,   0,   0,\n",
       "          0,   0],\n",
       "       [  0,   0,   0,   0,   0,   0,   0,   0,  23,  66, 213, 253, 253,\n",
       "        253, 253, 198,  81,   2,   0,   0,   0,   0,   0,   0,   0,   0,\n",
       "          0,   0],\n",
       "       [  0,   0,   0,   0,   0,   0,  18, 171, 219, 253, 253, 253, 253,\n",
       "        195,  80,   9,   0,   0,   0,   0,   0,   0,   0,   0,   0,   0,\n",
       "          0,   0],\n",
       "       [  0,   0,   0,   0,  55, 172, 226, 253, 253, 253, 253, 244, 133,\n",
       "         11,   0,   0,   0,   0,   0,   0,   0,   0,   0,   0,   0,   0,\n",
       "          0,   0],\n",
       "       [  0,   0,   0,   0, 136, 253, 253, 253, 212, 135, 132,  16,   0,\n",
       "          0,   0,   0,   0,   0,   0,   0,   0,   0,   0,   0,   0,   0,\n",
       "          0,   0],\n",
       "       [  0,   0,   0,   0,   0,   0,   0,   0,   0,   0,   0,   0,   0,\n",
       "          0,   0,   0,   0,   0,   0,   0,   0,   0,   0,   0,   0,   0,\n",
       "          0,   0],\n",
       "       [  0,   0,   0,   0,   0,   0,   0,   0,   0,   0,   0,   0,   0,\n",
       "          0,   0,   0,   0,   0,   0,   0,   0,   0,   0,   0,   0,   0,\n",
       "          0,   0],\n",
       "       [  0,   0,   0,   0,   0,   0,   0,   0,   0,   0,   0,   0,   0,\n",
       "          0,   0,   0,   0,   0,   0,   0,   0,   0,   0,   0,   0,   0,\n",
       "          0,   0]], dtype=uint8)"
      ]
     },
     "execution_count": 10,
     "metadata": {},
     "output_type": "execute_result"
    }
   ],
   "source": [
    "X_train[0]"
   ]
  },
  {
   "cell_type": "code",
   "execution_count": 11,
   "metadata": {
    "colab": {
     "base_uri": "https://localhost:8080/",
     "height": 283
    },
    "id": "NGufWuxR7rTv",
    "outputId": "0f9d9487-188b-46f8-c8a2-ef4abbe6b018"
   },
   "outputs": [
    {
     "data": {
      "text/plain": [
       "<matplotlib.image.AxesImage at 0x7f263ede8950>"
      ]
     },
     "execution_count": 11,
     "metadata": {},
     "output_type": "execute_result"
    },
    {
     "data": {
      "image/png": "[encoded data removed]",
      "text/plain": [
       "<Figure size 432x288 with 1 Axes>"
      ]
     },
     "metadata": {
      "needs_background": "light"
     },
     "output_type": "display_data"
    }
   ],
   "source": [
    "plt.imshow(X_train[0])"
   ]
  },
  {
   "cell_type": "markdown",
   "metadata": {
    "id": "B6G2ea4lNQWI"
   },
   "source": [
    "**Defining classes**"
   ]
  },
  {
   "cell_type": "code",
   "execution_count": 12,
   "metadata": {
    "id": "u6UbPF7I8KlP"
   },
   "outputs": [],
   "source": [
    "classes = [0, 1, 2, 3, 4, 5, 6, 7, 8, 9]"
   ]
  },
  {
   "cell_type": "markdown",
   "metadata": {
    "id": "RcqoiBRqNboR"
   },
   "source": [
    "**Function to plot image from an given index. With its correct label**"
   ]
  },
  {
   "cell_type": "code",
   "execution_count": 13,
   "metadata": {
    "id": "FeCGSNef9jYh"
   },
   "outputs": [],
   "source": [
    "def plot_sample(X,y, index):\n",
    "  plt.figure(figsize=(15,2))\n",
    "  plt.imshow(X[index])\n",
    "  plt.xlabel(classes[y[index]])"
   ]
  },
  {
   "cell_type": "markdown",
   "metadata": {
    "id": "vlYkixF0N2mc"
   },
   "source": [
    "**Reshaping the traing data of Y to make it in 1-D or fast and easy analysis by the algorithm**"
   ]
  },
  {
   "cell_type": "code",
   "execution_count": 14,
   "metadata": {
    "id": "FXkRm30Acobr"
   },
   "outputs": [],
   "source": [
    "y_train=y_train.reshape(-1, )"
   ]
  },
  {
   "cell_type": "markdown",
   "metadata": {
    "id": "ZzTBISc4OBhu"
   },
   "source": [
    "**Plotting the index**"
   ]
  },
  {
   "cell_type": "code",
   "execution_count": 15,
   "metadata": {
    "colab": {
     "base_uri": "https://localhost:8080/",
     "height": 173
    },
    "id": "q0n_aD3R-Tc_",
    "outputId": "9385ef09-4930-4654-eede-49f37c99d2b1"
   },
   "outputs": [
    {
     "data": {
      "image/png": "[encoded data removed]",
      "text/plain": [
       "<Figure size 1080x144 with 1 Axes>"
      ]
     },
     "metadata": {
      "needs_background": "light"
     },
     "output_type": "display_data"
    }
   ],
   "source": [
    "plot_sample(X_train, y_train,0)"
   ]
  },
  {
   "cell_type": "code",
   "execution_count": 16,
   "metadata": {
    "colab": {
     "base_uri": "https://localhost:8080/",
     "height": 173
    },
    "id": "fpZXT_ax-xqH",
    "outputId": "97c2e828-d70e-4d7c-fb84-365c94aa1910"
   },
   "outputs": [
    {
     "data": {
      "image/png": "[encoded data removed]",
      "text/plain": [
       "<Figure size 1080x144 with 1 Axes>"
      ]
     },
     "metadata": {
      "needs_background": "light"
     },
     "output_type": "display_data"
    }
   ],
   "source": [
    "plot_sample(X_train, y_train,4)"
   ]
  },
  {
   "cell_type": "markdown",
   "metadata": {
    "id": "f6G5XYmoOL_t"
   },
   "source": [
    "**Dividing the trainng and testing data by max value of color. Here the data is divided by 255. It will make the data in range of 0 & 1**"
   ]
  },
  {
   "cell_type": "code",
   "execution_count": 17,
   "metadata": {
    "id": "6vTxNKir-_fv"
   },
   "outputs": [],
   "source": [
    "X_train[0] = X_train[0]/255"
   ]
  },
  {
   "cell_type": "code",
   "execution_count": 18,
   "metadata": {
    "colab": {
     "base_uri": "https://localhost:8080/"
    },
    "id": "MKI4jrCk_UWO",
    "outputId": "6a9d2dfd-2d3a-44dc-bb3c-b93e420d4c03"
   },
   "outputs": [
    {
     "data": {
      "text/plain": [
       "array([[0, 0, 0, 0, 0, 0, 0, 0, 0, 0, 0, 0, 0, 0, 0, 0, 0, 0, 0, 0, 0, 0,\n",
       "        0, 0, 0, 0, 0, 0],\n",
       "       [0, 0, 0, 0, 0, 0, 0, 0, 0, 0, 0, 0, 0, 0, 0, 0, 0, 0, 0, 0, 0, 0,\n",
       "        0, 0, 0, 0, 0, 0],\n",
       "       [0, 0, 0, 0, 0, 0, 0, 0, 0, 0, 0, 0, 0, 0, 0, 0, 0, 0, 0, 0, 0, 0,\n",
       "        0, 0, 0, 0, 0, 0],\n",
       "       [0, 0, 0, 0, 0, 0, 0, 0, 0, 0, 0, 0, 0, 0, 0, 0, 0, 0, 0, 0, 0, 0,\n",
       "        0, 0, 0, 0, 0, 0],\n",
       "       [0, 0, 0, 0, 0, 0, 0, 0, 0, 0, 0, 0, 0, 0, 0, 0, 0, 0, 0, 0, 0, 0,\n",
       "        0, 0, 0, 0, 0, 0],\n",
       "       [0, 0, 0, 0, 0, 0, 0, 0, 0, 0, 0, 0, 0, 0, 0, 0, 0, 0, 0, 0, 0, 1,\n",
       "        0, 0, 0, 0, 0, 0],\n",
       "       [0, 0, 0, 0, 0, 0, 0, 0, 0, 0, 0, 0, 0, 0, 0, 0, 0, 0, 0, 0, 0, 0,\n",
       "        0, 0, 0, 0, 0, 0],\n",
       "       [0, 0, 0, 0, 0, 0, 0, 0, 0, 0, 0, 0, 0, 0, 0, 0, 0, 0, 0, 0, 0, 0,\n",
       "        0, 0, 0, 0, 0, 0],\n",
       "       [0, 0, 0, 0, 0, 0, 0, 0, 0, 0, 0, 0, 0, 0, 0, 0, 0, 0, 0, 0, 0, 0,\n",
       "        0, 0, 0, 0, 0, 0],\n",
       "       [0, 0, 0, 0, 0, 0, 0, 0, 0, 0, 0, 0, 0, 0, 0, 0, 0, 0, 0, 0, 0, 0,\n",
       "        0, 0, 0, 0, 0, 0],\n",
       "       [0, 0, 0, 0, 0, 0, 0, 0, 0, 0, 0, 0, 0, 0, 0, 0, 0, 0, 0, 0, 0, 0,\n",
       "        0, 0, 0, 0, 0, 0],\n",
       "       [0, 0, 0, 0, 0, 0, 0, 0, 0, 0, 0, 0, 0, 0, 0, 0, 0, 0, 0, 0, 0, 0,\n",
       "        0, 0, 0, 0, 0, 0],\n",
       "       [0, 0, 0, 0, 0, 0, 0, 0, 0, 0, 0, 0, 0, 0, 0, 0, 0, 0, 0, 0, 0, 0,\n",
       "        0, 0, 0, 0, 0, 0],\n",
       "       [0, 0, 0, 0, 0, 0, 0, 0, 0, 0, 0, 0, 0, 0, 0, 0, 0, 0, 0, 0, 0, 0,\n",
       "        0, 0, 0, 0, 0, 0],\n",
       "       [0, 0, 0, 0, 0, 0, 0, 0, 0, 0, 0, 0, 0, 0, 0, 0, 0, 0, 0, 0, 0, 0,\n",
       "        0, 0, 0, 0, 0, 0],\n",
       "       [0, 0, 0, 0, 0, 0, 0, 0, 0, 0, 0, 0, 0, 0, 0, 0, 0, 0, 0, 0, 0, 0,\n",
       "        0, 0, 0, 0, 0, 0],\n",
       "       [0, 0, 0, 0, 0, 0, 0, 0, 0, 0, 0, 0, 0, 0, 0, 0, 0, 0, 0, 0, 0, 0,\n",
       "        0, 0, 0, 0, 0, 0],\n",
       "       [0, 0, 0, 0, 0, 0, 0, 0, 0, 0, 0, 0, 0, 0, 0, 0, 0, 0, 0, 0, 0, 0,\n",
       "        0, 0, 0, 0, 0, 0],\n",
       "       [0, 0, 0, 0, 0, 0, 0, 0, 0, 0, 0, 0, 0, 0, 0, 0, 0, 0, 0, 0, 0, 0,\n",
       "        0, 0, 0, 0, 0, 0],\n",
       "       [0, 0, 0, 0, 0, 0, 0, 0, 0, 0, 0, 0, 0, 0, 0, 0, 0, 0, 0, 0, 0, 0,\n",
       "        0, 0, 0, 0, 0, 0],\n",
       "       [0, 0, 0, 0, 0, 0, 0, 0, 0, 0, 0, 0, 0, 0, 0, 0, 0, 0, 0, 0, 0, 0,\n",
       "        0, 0, 0, 0, 0, 0],\n",
       "       [0, 0, 0, 0, 0, 0, 0, 0, 0, 0, 0, 0, 0, 0, 0, 0, 0, 0, 0, 0, 0, 0,\n",
       "        0, 0, 0, 0, 0, 0],\n",
       "       [0, 0, 0, 0, 0, 0, 0, 0, 0, 0, 0, 0, 0, 0, 0, 0, 0, 0, 0, 0, 0, 0,\n",
       "        0, 0, 0, 0, 0, 0],\n",
       "       [0, 0, 0, 0, 0, 0, 0, 0, 0, 0, 0, 0, 0, 0, 0, 0, 0, 0, 0, 0, 0, 0,\n",
       "        0, 0, 0, 0, 0, 0],\n",
       "       [0, 0, 0, 0, 0, 0, 0, 0, 0, 0, 0, 0, 0, 0, 0, 0, 0, 0, 0, 0, 0, 0,\n",
       "        0, 0, 0, 0, 0, 0],\n",
       "       [0, 0, 0, 0, 0, 0, 0, 0, 0, 0, 0, 0, 0, 0, 0, 0, 0, 0, 0, 0, 0, 0,\n",
       "        0, 0, 0, 0, 0, 0],\n",
       "       [0, 0, 0, 0, 0, 0, 0, 0, 0, 0, 0, 0, 0, 0, 0, 0, 0, 0, 0, 0, 0, 0,\n",
       "        0, 0, 0, 0, 0, 0],\n",
       "       [0, 0, 0, 0, 0, 0, 0, 0, 0, 0, 0, 0, 0, 0, 0, 0, 0, 0, 0, 0, 0, 0,\n",
       "        0, 0, 0, 0, 0, 0]], dtype=uint8)"
      ]
     },
     "execution_count": 18,
     "metadata": {},
     "output_type": "execute_result"
    }
   ],
   "source": [
    "X_train[0]"
   ]
  },
  {
   "cell_type": "code",
   "execution_count": 19,
   "metadata": {
    "colab": {
     "base_uri": "https://localhost:8080/",
     "height": 283
    },
    "id": "UI-Bew8i_gQO",
    "outputId": "07bb62e4-1040-4644-f96f-ad2c91ffb0d0"
   },
   "outputs": [
    {
     "data": {
      "text/plain": [
       "<matplotlib.image.AxesImage at 0x7f263e8172d0>"
      ]
     },
     "execution_count": 19,
     "metadata": {},
     "output_type": "execute_result"
    },
    {
     "data": {
      "image/png": "[encoded data removed]",
      "text/plain": [
       "<Figure size 432x288 with 1 Axes>"
      ]
     },
     "metadata": {
      "needs_background": "light"
     },
     "output_type": "display_data"
    }
   ],
   "source": [
    "plt.imshow(X_train[0])"
   ]
  },
  {
   "cell_type": "code",
   "execution_count": 20,
   "metadata": {
    "id": "Hd5vl_2g_kh2"
   },
   "outputs": [],
   "source": [
    "X_train=X_train/255"
   ]
  },
  {
   "cell_type": "code",
   "execution_count": 21,
   "metadata": {
    "id": "PdB14Zds_u43"
   },
   "outputs": [],
   "source": [
    "X_test=X_test/255"
   ]
  },
  {
   "cell_type": "markdown",
   "metadata": {
    "id": "YeZyXSxPOqbp"
   },
   "source": [
    "**Creating an ann model**"
   ]
  },
  {
   "cell_type": "code",
   "execution_count": 22,
   "metadata": {
    "id": "-GY2A0Xq_wnP"
   },
   "outputs": [],
   "source": [
    "# ann model using keras.\n",
    "ann = keras.models.Sequential([keras.layers.Flatten(input_shape=(28,28,1)), # First layer flattens the output to form a vector\n",
    "                               keras.layers.Dense(3000, activation='relu'), # Second layer is neurons layer. It has 3000 neurons and has activation function as relu\n",
    "                               keras.layers.Dense(100, activation= 'relu'), # Third layer as 100 neurons which are fully connected with the previous layer. Relu makes the negative numbers as 0\n",
    "                               keras.layers.Dense(10, activation='sigmoid')]) # The last layer has 10 neurons which are equal to our output classes. It is also output layer."
   ]
  },
  {
   "cell_type": "code",
   "execution_count": 23,
   "metadata": {
    "id": "GoliT0DgBhrP"
   },
   "outputs": [],
   "source": [
    "optimizer='SGD' # optimiser for weight managment and accuracy\n",
    "loss='sparse_categorical_crossentropy' # Calculating the loss\n",
    "metrices=['accuracy'] # On which basis we are mesuring the performance of the model"
   ]
  },
  {
   "cell_type": "code",
   "execution_count": 24,
   "metadata": {
    "id": "ulQMfpj4FkEd"
   },
   "outputs": [],
   "source": [
    "ann.compile(optimizer,loss,metrices) # Compiling the model for it to run"
   ]
  },
  {
   "cell_type": "code",
   "execution_count": 25,
   "metadata": {
    "colab": {
     "base_uri": "https://localhost:8080/"
    },
    "id": "yWz-repnCfWO",
    "outputId": "22c4e2e5-a42c-4e72-df71-b8125395cc9b"
   },
   "outputs": [
    {
     "name": "stdout",
     "output_type": "stream",
     "text": [
      "Epoch 1/5\n",
      "1875/1875 [==============================] - 30s 16ms/step - loss: 0.5060 - accuracy: 0.8736\n",
      "Epoch 2/5\n",
      "1875/1875 [==============================] - 29s 16ms/step - loss: 0.2515 - accuracy: 0.9288\n",
      "Epoch 3/5\n",
      "1875/1875 [==============================] - 29s 16ms/step - loss: 0.2004 - accuracy: 0.9436\n",
      "Epoch 4/5\n",
      "1875/1875 [==============================] - 29s 16ms/step - loss: 0.1672 - accuracy: 0.9525\n",
      "Epoch 5/5\n",
      "1875/1875 [==============================] - 29s 15ms/step - loss: 0.1427 - accuracy: 0.9600\n"
     ]
    },
    {
     "data": {
      "text/plain": [
       "<keras.callbacks.History at 0x7f263ad51ad0>"
      ]
     },
     "execution_count": 25,
     "metadata": {},
     "output_type": "execute_result"
    }
   ],
   "source": [
    "ann.fit(X_train, y_train, epochs=5) # Fitting the training the data into the model. i.e giving the model the training data\n",
    "# The epochs are kept as 5"
   ]
  },
  {
   "cell_type": "code",
   "execution_count": 52,
   "metadata": {
    "colab": {
     "base_uri": "https://localhost:8080/"
    },
    "id": "ZI_Q7mM3ez5e",
    "outputId": "6aefb985-008e-426e-f787-301da04dbe6a"
   },
   "outputs": [
    {
     "name": "stdout",
     "output_type": "stream",
     "text": [
      "Epoch 1/10\n",
      "1875/1875 [==============================] - 32s 17ms/step - loss: 0.1240 - accuracy: 0.9654\n",
      "Epoch 2/10\n",
      "1875/1875 [==============================] - 31s 16ms/step - loss: 0.1090 - accuracy: 0.9699\n",
      "Epoch 3/10\n",
      "1875/1875 [==============================] - 31s 17ms/step - loss: 0.0971 - accuracy: 0.9730\n",
      "Epoch 4/10\n",
      "1875/1875 [==============================] - 32s 17ms/step - loss: 0.0868 - accuracy: 0.9762\n",
      "Epoch 5/10\n",
      "1875/1875 [==============================] - 32s 17ms/step - loss: 0.0780 - accuracy: 0.9790\n",
      "Epoch 6/10\n",
      "1875/1875 [==============================] - 32s 17ms/step - loss: 0.0706 - accuracy: 0.9808\n",
      "Epoch 7/10\n",
      "1875/1875 [==============================] - 30s 16ms/step - loss: 0.0644 - accuracy: 0.9826\n",
      "Epoch 8/10\n",
      "1875/1875 [==============================] - 30s 16ms/step - loss: 0.0584 - accuracy: 0.9844\n",
      "Epoch 9/10\n",
      "1875/1875 [==============================] - 31s 16ms/step - loss: 0.0537 - accuracy: 0.9859\n",
      "Epoch 10/10\n",
      "1875/1875 [==============================] - 31s 17ms/step - loss: 0.0489 - accuracy: 0.9874\n"
     ]
    },
    {
     "data": {
      "text/plain": [
       "<keras.callbacks.History at 0x7f263697c510>"
      ]
     },
     "execution_count": 52,
     "metadata": {},
     "output_type": "execute_result"
    }
   ],
   "source": [
    "ann.fit(X_train, y_train, epochs=10) # Fitting the training the data into the model. i.e giving the model the training data\n",
    "# The epochs are kept as 10"
   ]
  },
  {
   "cell_type": "code",
   "execution_count": 26,
   "metadata": {
    "colab": {
     "base_uri": "https://localhost:8080/"
    },
    "id": "BEabt5sGEqZm",
    "outputId": "52dba3ae-24b5-4683-f636-57ee2f4219f4"
   },
   "outputs": [
    {
     "name": "stdout",
     "output_type": "stream",
     "text": [
      "313/313 [==============================] - 2s 7ms/step - loss: 0.1406 - accuracy: 0.9586\n"
     ]
    },
    {
     "data": {
      "text/plain": [
       "[0.14060541987419128, 0.9585999846458435]"
      ]
     },
     "execution_count": 26,
     "metadata": {},
     "output_type": "execute_result"
    }
   ],
   "source": [
    "ann.evaluate(X_test, y_test) # Evaluating the model based on the matrices defined"
   ]
  },
  {
   "cell_type": "code",
   "execution_count": 27,
   "metadata": {
    "id": "CC03NVkCVz2J"
   },
   "outputs": [],
   "source": [
    "# Importing confusion matrix and classification report for more accurate measure of the model's performance\n",
    "from sklearn.metrics import confusion_matrix,classification_report"
   ]
  },
  {
   "cell_type": "code",
   "execution_count": 28,
   "metadata": {
    "id": "nCpKj79_WcnP"
   },
   "outputs": [],
   "source": [
    "y_pred=ann.predict(X_test) # Testing the output by predicting test values on the model"
   ]
  },
  {
   "cell_type": "code",
   "execution_count": 29,
   "metadata": {
    "colab": {
     "base_uri": "https://localhost:8080/"
    },
    "id": "lH3f8VsQWszf",
    "outputId": "1f36a141-0d62-4bff-d838-0dd206230e6f"
   },
   "outputs": [
    {
     "data": {
      "text/plain": [
       "array([[6.6895694e-01, 2.7254313e-02, 9.7251844e-01, ..., 9.9994051e-01,\n",
       "        3.7977117e-01, 7.2818643e-01],\n",
       "       [8.0907118e-01, 7.0660996e-01, 9.9995929e-01, ..., 2.4995208e-04,\n",
       "        9.1889465e-01, 6.4817071e-04],\n",
       "       [2.3341358e-02, 9.9875450e-01, 8.6346912e-01, ..., 7.1308720e-01,\n",
       "        5.3178972e-01, 1.9384530e-01],\n",
       "       ...,\n",
       "       [5.0985813e-03, 2.6222169e-03, 1.8168595e-01, ..., 7.1531254e-01,\n",
       "        9.5660347e-01, 9.7497487e-01],\n",
       "       [2.4446207e-01, 2.4306852e-01, 5.1091820e-02, ..., 9.2225373e-03,\n",
       "        9.7058105e-01, 2.6898772e-02],\n",
       "       [9.2852783e-01, 1.6146004e-03, 9.9304760e-01, ..., 4.8309565e-04,\n",
       "        2.2048292e-01, 6.6996217e-03]], dtype=float32)"
      ]
     },
     "execution_count": 29,
     "metadata": {},
     "output_type": "execute_result"
    }
   ],
   "source": [
    "y_pred # Predicted output"
   ]
  },
  {
   "cell_type": "code",
   "execution_count": 30,
   "metadata": {
    "id": "7loiFVGlWvrP"
   },
   "outputs": [],
   "source": [
    "y_pred_classes=[np.argmax(element) for element in y_pred] # Getting the pretedted classes my fetching only the highest probablity value"
   ]
  },
  {
   "cell_type": "code",
   "execution_count": 31,
   "metadata": {
    "colab": {
     "base_uri": "https://localhost:8080/"
    },
    "id": "b6Oil8j3XG8_",
    "outputId": "d54ef6e4-9faa-4827-b566-9770b91994f7"
   },
   "outputs": [
    {
     "name": "stdout",
     "output_type": "stream",
     "text": [
      "classification report\n",
      "               precision    recall  f1-score   support\n",
      "\n",
      "           0       0.96      0.99      0.98       980\n",
      "           1       0.98      0.98      0.98      1135\n",
      "           2       0.94      0.97      0.96      1032\n",
      "           3       0.97      0.94      0.95      1010\n",
      "           4       0.97      0.95      0.96       982\n",
      "           5       0.95      0.96      0.95       892\n",
      "           6       0.95      0.97      0.96       958\n",
      "           7       0.96      0.95      0.95      1028\n",
      "           8       0.95      0.94      0.95       974\n",
      "           9       0.96      0.93      0.95      1009\n",
      "\n",
      "    accuracy                           0.96     10000\n",
      "   macro avg       0.96      0.96      0.96     10000\n",
      "weighted avg       0.96      0.96      0.96     10000\n",
      "\n"
     ]
    }
   ],
   "source": [
    "print(\"classification report\\n\",classification_report(y_test,y_pred_classes)) # Printing the classification report"
   ]
  },
  {
   "cell_type": "markdown",
   "metadata": {
    "id": "6DZukhr2VZAR"
   },
   "source": [
    "**F1 Score for the ann is 0.96**"
   ]
  },
  {
   "cell_type": "code",
   "execution_count": 32,
   "metadata": {
    "colab": {
     "base_uri": "https://localhost:8080/"
    },
    "id": "2TiG7L30XWEX",
    "outputId": "d3d90692-f4de-488e-ba79-7293f8cb5cc0"
   },
   "outputs": [
    {
     "data": {
      "text/plain": [
       "([7, 2, 1, 0, 4], array([7, 2, 1, 0, 4], dtype=uint8))"
      ]
     },
     "execution_count": 32,
     "metadata": {},
     "output_type": "execute_result"
    }
   ],
   "source": [
    "y_pred_classes[:5], y_test[:5] # Checking the first 5 values of the predicted classes and the actual classes"
   ]
  },
  {
   "cell_type": "code",
   "execution_count": 33,
   "metadata": {
    "id": "94QWoL9k0uMt"
   },
   "outputs": [],
   "source": [
    "# importing beckend from keras for getting the data format of the data\n",
    "from keras import backend as k"
   ]
  },
  {
   "cell_type": "code",
   "execution_count": 34,
   "metadata": {
    "id": "AxHoXLaUt4F8"
   },
   "outputs": [],
   "source": [
    "# Reshaping the data in the correct format based on the format of the data \n",
    "img_rows, img_cols=28, 28\n",
    " \n",
    "if k.image_data_format() == 'channels_first':\n",
    "   X_train = x_train.reshape(X_train.shape[0], 1, img_rows, img_cols)\n",
    "   X_test = X_test.reshape(X_test.shape[0], 1, img_rows, img_cols)\n",
    "   inpx = (1, img_rows, img_cols)\n",
    " \n",
    "else:\n",
    "   X_train = X_train.reshape(X_train.shape[0], img_rows, img_cols, 1)\n",
    "   X_test = X_test.reshape(X_test.shape[0], img_rows, img_cols, 1)\n",
    "   inpx = (img_rows, img_cols, 1)"
   ]
  },
  {
   "cell_type": "markdown",
   "metadata": {
    "id": "6gbLaZgkXMgg"
   },
   "source": [
    "Shape format - (number of elements, Rows, Columns, Channels) "
   ]
  },
  {
   "cell_type": "code",
   "execution_count": 35,
   "metadata": {
    "colab": {
     "base_uri": "https://localhost:8080/"
    },
    "id": "35YSt0JWu6JP",
    "outputId": "457fc2e2-99b4-4cc4-81a5-6c566de04070"
   },
   "outputs": [
    {
     "data": {
      "text/plain": [
       "(60000, 28, 28, 1)"
      ]
     },
     "execution_count": 35,
     "metadata": {},
     "output_type": "execute_result"
    }
   ],
   "source": [
    "X_train.shape"
   ]
  },
  {
   "cell_type": "markdown",
   "metadata": {
    "id": "38XVNMupWGWS"
   },
   "source": [
    "The initial shape was (60000, 28, 28) nd after re-shaping the shape is (60000, 28, 28, 1)"
   ]
  },
  {
   "cell_type": "markdown",
   "metadata": {
    "id": "frjPsFcPXaMA"
   },
   "source": [
    "**Creating the CNN model**"
   ]
  },
  {
   "cell_type": "code",
   "execution_count": 36,
   "metadata": {
    "id": "kgpbvH77YFQ-"
   },
   "outputs": [],
   "source": [
    "cnn = keras.models.Sequential([\n",
    "                               keras.layers.Conv2D(filters=32, kernel_size=(3,3), activation='relu', input_shape=(28,28,1)), # Layer 1 of the convolution. It has 32 filters with a kernal of 3x3.\n",
    "                               keras.layers.MaxPooling2D((2,2)), # pooling is used to decrease the size. here it is reducing the size to half\n",
    "                               keras.layers.Conv2D(filters=64,kernel_size=(3,3),activation='relu'), # Layer 2 of convolution. It has 64 filter with a kernal of 3x3\n",
    "                               keras.layers.MaxPooling2D((2,2)), # pooling layer of 2x2 to decrease the size by half                   \n",
    "                               keras.layers.Flatten(), # Layer of vectorising the data\n",
    "                               keras.layers.Dense(64,activation='relu'), # first FC layer\n",
    "                               keras.layers.Dense(10,activation='softmax') # The output layer. The output has a softmax activation function\n",
    "])"
   ]
  },
  {
   "cell_type": "code",
   "execution_count": 37,
   "metadata": {
    "id": "UgiaMFrAcL-h"
   },
   "outputs": [],
   "source": [
    "cnn2 = keras.models.Sequential([\n",
    "                               keras.layers.Conv2D(filters=32, kernel_size=(3,3), activation='relu', input_shape=(28,28,1)), # Layer 1 of the convolution. It has 32 filters with a kernal of 3x3.\n",
    "                               keras.layers.MaxPooling2D((2,2)), # pooling is used to decrease the size. here it is reducing the size to half\n",
    "                              #  keras.layers.Conv2D(filters=64,kernel_size=(3,3),activation='relu'), # Layer 2 of convolution. It has 64 filter with a kernal of 3x3\n",
    "                              #  keras.layers.MaxPooling2D((2,2)), # pooling layer of 2x2 to decrease the size by half                   \n",
    "                               keras.layers.Flatten(), # Layer of vectorising the data\n",
    "                               keras.layers.Dense(32,activation='relu'), # first FC layer\n",
    "                               keras.layers.Dense(10,activation='softmax') # The output layer. The output has a softmax activation function\n",
    "])"
   ]
  },
  {
   "cell_type": "code",
   "execution_count": 38,
   "metadata": {
    "id": "KV_lgZzqds5s"
   },
   "outputs": [],
   "source": [
    "cnn3 = keras.models.Sequential([\n",
    "                               keras.layers.Conv2D(filters=32, kernel_size=(3,3), activation='relu', input_shape=(28,28,1)), # Layer 1 of the convolution. It has 32 filters with a kernal of 3x3.\n",
    "                               keras.layers.MaxPooling2D((2,2)), # pooling is used to decrease the size. here it is reducing the size to half\n",
    "                               keras.layers.Conv2D(filters=64,kernel_size=(3,3),activation='relu'), # Layer 2 of convolution. It has 64 filter with a kernal of 3x3\n",
    "                               keras.layers.MaxPooling2D((2,2)), # pooling layer of 2x2 to decrease the size by half\n",
    "                               keras.layers.Conv2D(filters=128,kernel_size=(3,3),activation='relu'), # Layer 3 of convolution. It has 128 filter with a kernal of 3x3\n",
    "                               keras.layers.MaxPooling2D((2,2)), # pooling layer of 2x2 to decrease the size by half                       \n",
    "                               keras.layers.Flatten(), # Layer of vectorising the data\n",
    "                               keras.layers.Dense(128,activation='relu'), # first FC layer\n",
    "                               keras.layers.Dense(10,activation='softmax') # The output layer. The output has a softmax activation function\n",
    "])"
   ]
  },
  {
   "cell_type": "code",
   "execution_count": 39,
   "metadata": {
    "id": "1tXFYn57ZJyu"
   },
   "outputs": [],
   "source": [
    "cnn.compile(optimizer='adam',loss='sparse_categorical_crossentropy',metrics=['accuracy']) # Compilation of the cnn model"
   ]
  },
  {
   "cell_type": "code",
   "execution_count": 40,
   "metadata": {
    "id": "H3Y9K_ircTh8"
   },
   "outputs": [],
   "source": [
    "cnn2.compile(optimizer='adam',loss='sparse_categorical_crossentropy',metrics=['accuracy']) # Compilation of the cnn model"
   ]
  },
  {
   "cell_type": "code",
   "execution_count": 41,
   "metadata": {
    "id": "TKo3IGK-dpgC"
   },
   "outputs": [],
   "source": [
    "cnn3.compile(optimizer='SGD',loss='sparse_categorical_crossentropy',metrics=['accuracy']) # Compilation of the cnn model"
   ]
  },
  {
   "cell_type": "code",
   "execution_count": 42,
   "metadata": {
    "colab": {
     "base_uri": "https://localhost:8080/"
    },
    "id": "aGeWUTEMf1JM",
    "outputId": "9dd42c7a-8171-4647-9acb-870a911d9613"
   },
   "outputs": [
    {
     "data": {
      "text/plain": [
       "(60000,)"
      ]
     },
     "execution_count": 42,
     "metadata": {},
     "output_type": "execute_result"
    }
   ],
   "source": [
    "y_train.shape"
   ]
  },
  {
   "cell_type": "code",
   "execution_count": 43,
   "metadata": {
    "colab": {
     "base_uri": "https://localhost:8080/"
    },
    "id": "RTMuvWCTZ32F",
    "outputId": "106cdade-2c4d-4c32-da60-f38f084b74c4"
   },
   "outputs": [
    {
     "name": "stdout",
     "output_type": "stream",
     "text": [
      "Epoch 1/5\n",
      "1875/1875 [==============================] - 58s 30ms/step - loss: 0.1422 - accuracy: 0.9567\n",
      "Epoch 2/5\n",
      "1875/1875 [==============================] - 57s 31ms/step - loss: 0.0467 - accuracy: 0.9858\n",
      "Epoch 3/5\n",
      "1875/1875 [==============================] - 57s 31ms/step - loss: 0.0339 - accuracy: 0.9897\n",
      "Epoch 4/5\n",
      "1875/1875 [==============================] - 58s 31ms/step - loss: 0.0244 - accuracy: 0.9921\n",
      "Epoch 5/5\n",
      "1875/1875 [==============================] - 58s 31ms/step - loss: 0.0176 - accuracy: 0.9943\n"
     ]
    },
    {
     "data": {
      "text/plain": [
       "<keras.callbacks.History at 0x7f2636d34c10>"
      ]
     },
     "execution_count": 43,
     "metadata": {},
     "output_type": "execute_result"
    }
   ],
   "source": [
    "cnn.fit(X_train,y_train,epochs=5) # Fitting the data in the cnn model"
   ]
  },
  {
   "cell_type": "code",
   "execution_count": 44,
   "metadata": {
    "colab": {
     "base_uri": "https://localhost:8080/"
    },
    "id": "M56DGOWicZQF",
    "outputId": "2944acf3-29c9-4376-fcaa-79527375de93"
   },
   "outputs": [
    {
     "name": "stdout",
     "output_type": "stream",
     "text": [
      "Epoch 1/10\n",
      "1875/1875 [==============================] - 30s 16ms/step - loss: 0.1957 - accuracy: 0.9445\n",
      "Epoch 2/10\n",
      "1875/1875 [==============================] - 30s 16ms/step - loss: 0.0686 - accuracy: 0.9797\n",
      "Epoch 3/10\n",
      "1875/1875 [==============================] - 30s 16ms/step - loss: 0.0486 - accuracy: 0.9850\n",
      "Epoch 4/10\n",
      "1875/1875 [==============================] - 30s 16ms/step - loss: 0.0376 - accuracy: 0.9882\n",
      "Epoch 5/10\n",
      "1875/1875 [==============================] - 29s 16ms/step - loss: 0.0291 - accuracy: 0.9905\n",
      "Epoch 6/10\n",
      "1875/1875 [==============================] - 29s 16ms/step - loss: 0.0227 - accuracy: 0.9929\n",
      "Epoch 7/10\n",
      "1875/1875 [==============================] - 30s 16ms/step - loss: 0.0177 - accuracy: 0.9944\n",
      "Epoch 8/10\n",
      "1875/1875 [==============================] - 29s 16ms/step - loss: 0.0154 - accuracy: 0.9951\n",
      "Epoch 9/10\n",
      "1875/1875 [==============================] - 29s 16ms/step - loss: 0.0111 - accuracy: 0.9967\n",
      "Epoch 10/10\n",
      "1875/1875 [==============================] - 30s 16ms/step - loss: 0.0092 - accuracy: 0.9969\n"
     ]
    },
    {
     "data": {
      "text/plain": [
       "<keras.callbacks.History at 0x7f2636c56850>"
      ]
     },
     "execution_count": 44,
     "metadata": {},
     "output_type": "execute_result"
    }
   ],
   "source": [
    "cnn2.fit(X_train,y_train,epochs=10) # Fitting the data in the cnn model"
   ]
  },
  {
   "cell_type": "code",
   "execution_count": 45,
   "metadata": {
    "colab": {
     "base_uri": "https://localhost:8080/"
    },
    "id": "cNNO7m5xdk38",
    "outputId": "68a45fcb-d8b2-4c54-d6c3-f152376bf968"
   },
   "outputs": [
    {
     "name": "stdout",
     "output_type": "stream",
     "text": [
      "Epoch 1/5\n",
      "1875/1875 [==============================] - 65s 34ms/step - loss: 0.7325 - accuracy: 0.7779\n",
      "Epoch 2/5\n",
      "1875/1875 [==============================] - 65s 34ms/step - loss: 0.1837 - accuracy: 0.9427\n",
      "Epoch 3/5\n",
      "1875/1875 [==============================] - 66s 35ms/step - loss: 0.1324 - accuracy: 0.9596\n",
      "Epoch 4/5\n",
      "1875/1875 [==============================] - 66s 35ms/step - loss: 0.1086 - accuracy: 0.9650\n",
      "Epoch 5/5\n",
      "1875/1875 [==============================] - 65s 35ms/step - loss: 0.0902 - accuracy: 0.9719\n"
     ]
    },
    {
     "data": {
      "text/plain": [
       "<keras.callbacks.History at 0x7f2636ae1d50>"
      ]
     },
     "execution_count": 45,
     "metadata": {},
     "output_type": "execute_result"
    }
   ],
   "source": [
    "cnn3.fit(X_train,y_train,epochs=5) # Fitting the data in the cnn model"
   ]
  },
  {
   "cell_type": "code",
   "execution_count": 46,
   "metadata": {
    "colab": {
     "base_uri": "https://localhost:8080/"
    },
    "id": "DVHuCT1zZ5-l",
    "outputId": "294e656b-ad91-4c34-ad3e-14bd07467630"
   },
   "outputs": [
    {
     "data": {
      "text/plain": [
       "array([7, 2, 1, ..., 4, 5, 6], dtype=uint8)"
      ]
     },
     "execution_count": 46,
     "metadata": {},
     "output_type": "execute_result"
    }
   ],
   "source": [
    "y_test"
   ]
  },
  {
   "cell_type": "code",
   "execution_count": 47,
   "metadata": {
    "id": "u7IENe_D2GO4"
   },
   "outputs": [],
   "source": [
    "y_pred=cnn.predict(X_test) # Testing the output by predicting test values on the model"
   ]
  },
  {
   "cell_type": "code",
   "execution_count": 48,
   "metadata": {
    "colab": {
     "base_uri": "https://localhost:8080/"
    },
    "id": "y4Xl9zWG2Mjg",
    "outputId": "1f68c424-3c55-42e4-9860-c35a8951bec4"
   },
   "outputs": [
    {
     "data": {
      "text/plain": [
       "array([[3.6149618e-11, 5.5427902e-09, 1.8251541e-08, 9.6953222e-08,\n",
       "        1.8808884e-10, 8.8427939e-11, 2.1152406e-13, 9.9999535e-01,\n",
       "        8.5511438e-09, 4.5235211e-06],\n",
       "       [4.4382682e-07, 3.3169513e-06, 9.9999535e-01, 6.3610298e-11,\n",
       "        5.1517102e-12, 3.2424286e-14, 4.4545921e-08, 6.1426211e-11,\n",
       "        8.6642456e-07, 5.4291533e-11],\n",
       "       [3.8304385e-10, 9.9998772e-01, 3.9383719e-10, 7.8462896e-11,\n",
       "        8.6012287e-06, 5.7262820e-08, 5.0971303e-09, 3.5455680e-06,\n",
       "        5.6789141e-08, 1.0023769e-07],\n",
       "       [9.9999404e-01, 3.9937182e-09, 8.3519103e-10, 1.0720256e-10,\n",
       "        5.0587384e-10, 5.2082168e-08, 5.8098708e-06, 7.1745674e-08,\n",
       "        8.2070128e-09, 7.0273587e-09],\n",
       "       [9.8617994e-09, 1.5252216e-06, 2.4643541e-11, 1.8275464e-10,\n",
       "        9.9999213e-01, 8.4621597e-08, 2.5406166e-08, 7.6743003e-09,\n",
       "        1.7999733e-08, 6.1975347e-06]], dtype=float32)"
      ]
     },
     "execution_count": 48,
     "metadata": {},
     "output_type": "execute_result"
    }
   ],
   "source": [
    "y_pred[:5] # First 5 prediction"
   ]
  },
  {
   "cell_type": "code",
   "execution_count": 49,
   "metadata": {
    "id": "D5_S0JQk2nrg"
   },
   "outputs": [],
   "source": [
    "y_classes = [np.argmax(element) for element in y_pred] # Getting the pretedted classes my fetching only the highest probablity value"
   ]
  },
  {
   "cell_type": "code",
   "execution_count": 50,
   "metadata": {
    "colab": {
     "base_uri": "https://localhost:8080/"
    },
    "id": "INkcmGq725g4",
    "outputId": "8bd9bdb8-7713-4e30-d478-493c874f1ecc"
   },
   "outputs": [
    {
     "data": {
      "text/plain": [
       "([7, 2, 1, 0, 4], array([7, 2, 1, 0, 4], dtype=uint8))"
      ]
     },
     "execution_count": 50,
     "metadata": {},
     "output_type": "execute_result"
    }
   ],
   "source": [
    "y_classes[:5], y_test[:5] # Comparison of the first 5 elements of the prediction and the actual valus"
   ]
  },
  {
   "cell_type": "code",
   "execution_count": 51,
   "metadata": {
    "colab": {
     "base_uri": "https://localhost:8080/"
    },
    "id": "4VDo826e29ho",
    "outputId": "4d9a9616-ac48-4df7-b326-078602a0d002"
   },
   "outputs": [
    {
     "name": "stdout",
     "output_type": "stream",
     "text": [
      "Classification Report\n",
      "               precision    recall  f1-score   support\n",
      "\n",
      "           0       0.98      1.00      0.99       980\n",
      "           1       0.99      1.00      1.00      1135\n",
      "           2       1.00      0.98      0.99      1032\n",
      "           3       0.99      0.99      0.99      1010\n",
      "           4       0.99      0.99      0.99       982\n",
      "           5       0.98      0.98      0.98       892\n",
      "           6       0.99      0.99      0.99       958\n",
      "           7       0.98      0.99      0.99      1028\n",
      "           8       1.00      0.97      0.98       974\n",
      "           9       0.98      0.99      0.98      1009\n",
      "\n",
      "    accuracy                           0.99     10000\n",
      "   macro avg       0.99      0.99      0.99     10000\n",
      "weighted avg       0.99      0.99      0.99     10000\n",
      "\n"
     ]
    }
   ],
   "source": [
    "print(\"Classification Report\\n\",classification_report(y_test,y_classes)) # Classification report of the CNN"
   ]
  },
  {
   "cell_type": "markdown",
   "metadata": {
    "id": "LJAMnSe2aYe3"
   },
   "source": [
    "**Comparision of the f1 score of ANN and CNN**"
   ]
  },
  {
   "cell_type": "markdown",
   "metadata": {
    "id": "TFccfjfpan7c"
   },
   "source": [
    "\n",
    "\n",
    "*   Ann - 0.96\n",
    "*   CNN - 0.99\n",
    "\n",
    "\n",
    "\n",
    "\n",
    "\n",
    "\n",
    "\n",
    "\n",
    "\n",
    "\n",
    "\n"
   ]
  },
  {
   "cell_type": "markdown",
   "metadata": {
    "id": "7pAMw9I8bpLb"
   },
   "source": [
    "**Conclusion**\n",
    "\n",
    "In this case the ann and the cnn both performed well. From the example from class the difference is much higher with rgb images."
   ]
  },
  {
   "cell_type": "code",
   "execution_count": 51,
   "metadata": {
    "id": "OT_6gFym3Jsi"
   },
   "outputs": [],
   "source": [
    "Submitted by - Jayant Choudhary (AU18B1003) "
   ]
  }
 ],
 "metadata": {
  "colab": {
   "collapsed_sections": [],
   "name": "AU18B1003_A1_vision using CNN",
   "provenance": []
  },
  "kernelspec": {
   "display_name": "Python 3",
   "language": "python",
   "name": "python3"
  },
  "language_info": {
   "codemirror_mode": {
    "name": "ipython",
    "version": 3
   },
   "file_extension": ".py",
   "mimetype": "text/x-python",
   "name": "python",
   "nbconvert_exporter": "python",
   "pygments_lexer": "ipython3",
   "version": "3.8.10"
  }
 },
 "nbformat": 4,
 "nbformat_minor": 1
}
